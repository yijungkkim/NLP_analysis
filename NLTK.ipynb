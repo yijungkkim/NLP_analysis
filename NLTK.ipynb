{
 "cells": [
  {
   "cell_type": "code",
   "execution_count": null,
   "id": "b9602e92",
   "metadata": {},
   "outputs": [],
   "source": [
    "# Set up\n",
    "import pandas as pd\n",
    "df = pd.read_csv('data/EAR_english_EMA_20220817.csv', encoding ='utf-8-sig' )\n",
    "\n",
    "# Group by newid\n",
    "df = df.fillna('').groupby(['newid'])['transcription'].apply('\\n'.join).reset_index()\n",
    "df['row_num'] = df.index+1\n",
    "\n",
    "# Clean up transcription\n",
    "df['transcription'] = df['transcription'].str.replace('[','', regex=True)\n",
    "df['transcription'] = df['transcription'].str.replace(']','', regex=True)\n",
    "\n",
    "# Below removes ASCII ellipsis\n",
    "df['transcription'] = df['transcription'].str.replace('\\u2026','', regex=True)\n",
    "df.head()\n",
    "\n",
    "# Total Number of Workds in text\n",
    "df['Num_words'] = df['transcription'].apply(lambda x:len(str(x).split()))\n",
    "df.head()"
   ]
  },
  {
   "cell_type": "markdown",
   "id": "de4d5122",
   "metadata": {},
   "source": [
    "## NLTK"
   ]
  },
  {
   "cell_type": "code",
   "execution_count": null,
   "id": "5fd611ab",
   "metadata": {},
   "outputs": [],
   "source": [
    "import nltk\n",
    "from nltk import word_tokenize, pos_tag, pos_tag_sents\n",
    "from collections import Counter\n",
    "from itertools import chain\n",
    "\n",
    "# Tag tokens, text, POS\n",
    "tok_and_tag = lambda x: pos_tag(word_tokenize(x))\n",
    "\n",
    "def word_tokenize(sentence):\n",
    "    return sentence.split()\n",
    "\n",
    "df['tokens'] = df['transcription'].astype(str).apply(word_tokenize)\n",
    "df['text']=[nltk.Text(tokens) for tokens in zip(df['tokens'])]\n",
    "df['POS'] = df['transcription'].apply(tok_and_tag)\n",
    "\n",
    "# Count Nouns\n",
    "\n",
    "def add_pos_with_zero_counts(counter, keys_to_add):\n",
    "    for k in keys_to_add:\n",
    "        counter[k] = counter.get(k, 0)\n",
    "    return counter\n",
    "\n",
    "def NounCounter(x):\n",
    "    nouns = []\n",
    "    for (word, pos) in x:\n",
    "        if pos.startswith(\"NN\"):\n",
    "            nouns.append(word)\n",
    "    return nouns\n",
    "\n",
    "# Create subset of dataset where Num_words does not equal zero \n",
    "df_sub=df[df[\"Num_words\"]!=0]\n",
    "\n",
    "# Tag nouns in pos, count number of nouns\n",
    "df_sub['pos_counts'] = df_sub['POS'].apply(lambda x: Counter(list(zip(*x))[1]))\n",
    "df_sub['pos_counts_with_zero'] = df_sub['pos_counts'].apply(lambda x: add_pos_with_zero_counts(x, possible_tags))\n",
    "df_sub['sent_vector'] = df_sub['pos_counts_with_zero'].apply(lambda x: [count for tag, count in sorted(x.most_common())])\n",
    "df_sub[\"nouns\"] = df_sub[\"POS\"].apply(NounCounter)\n",
    "df_sub[\"noun_count\"] = df_sub[\"nouns\"].str.len()\n",
    "\n",
    "# Keep only newid, transcription, row_num, Num_words, tokens, text, POS, noun_count from df_sub\n",
    "df_sub_clean = pd.DataFrame(df_sub[[\"newid\", \"transcription\", \"row_num\", \"Num_words\", \"tokens\", \"text\", \"POS\", \"noun_count\"]])\n",
    "\n",
    "# merge df_sub_clean with df\n",
    "df2=pd.merge(df, df_sub_clean, on=[\"newid\", \"row_num\"], how=\"left\")\n",
    "\n",
    "# rename columns\n",
    "df2 = df2.rename(columns={\"transcription_x\": \"transcription\",'Num_words_x':'Num_words','tokens_x': 'tokens', 'text_x':'text', 'POS_x':'POS'})\n",
    "\n",
    "# delete unnecessary columns\n",
    "del df2['transcription_y'], df2['Num_words_y'], df2['tokens_y'], df2['text_y'], df2['POS_y']\n",
    "\n",
    "# replace noun_count NaN to 0\n",
    "df2['noun_count'] = df2['noun_count'].fillna(0).astype(int)\n",
    "df2.head()"
   ]
  },
  {
   "cell_type": "markdown",
   "id": "ac5c1d9f",
   "metadata": {},
   "source": [
    "## Usage of Uncommon Words (Average Frequency of Nouns)"
   ]
  },
  {
   "cell_type": "code",
   "execution_count": null,
   "id": "1293fc54",
   "metadata": {},
   "outputs": [],
   "source": [
    "# Add average frequency of nouns \n",
    "df2[\"avg_freq_nouns\"] = df2[\"noun_count\"]/df2[\"Num_words\"]\n",
    "df2['avg_freq_nouns'] = df2['avg_freq_nouns'].fillna(0)\n",
    "df2.head()"
   ]
  },
  {
   "cell_type": "markdown",
   "id": "5821e685",
   "metadata": {},
   "source": [
    "## Grammatical Complexity (Clauses per sentence)"
   ]
  },
  {
   "cell_type": "markdown",
   "id": "7561cc97",
   "metadata": {},
   "source": [
    "### Analyzing Grammatical Complexity uses TAASSC\n",
    "### https://www.linguisticanalysistools.org/taassc.html\n",
    "### Each transcript needs to be exported as a txt file to feed into TAASSC"
   ]
  },
  {
   "cell_type": "code",
   "execution_count": null,
   "id": "c27600e0",
   "metadata": {},
   "outputs": [],
   "source": [
    "# drop instances with no transcription\n",
    "new_df2=df2[(df2['Num_words']!=0) & (df2['row_num']!=460) & (df2['row_num']!=2765) & (df2['row_num']!=1854) &(df2['row_num']!=4129)]\n",
    "\n",
    "# Note that leaving empty spaces \n",
    "new_df2['transcription'] = new_df2['transcription'].str.replace('\\n','\\n.', regex=True)\n",
    "\n",
    "# export every line of csv to txt file\n",
    "import csv\n",
    "with open ('data\\EAR_english_EMA_cleaned20220817.csv', encoding=\"utf-8-sig\") as csvfile: \n",
    "    reader = csv.DictReader(csvfile)\n",
    "    for row in reader:\n",
    "        file_name = 'textfile\\{0}.txt'.format(row['row_num'])\n",
    "        with open(file_name, 'w') as f:\n",
    "            f.write(row['transcription'])"
   ]
  },
  {
   "cell_type": "markdown",
   "id": "0277cb4f",
   "metadata": {},
   "source": [
    "### After running TAASSC, import back"
   ]
  },
  {
   "cell_type": "code",
   "execution_count": null,
   "id": "a547d800",
   "metadata": {},
   "outputs": [],
   "source": [
    "# Read in TAASSC analysis file\n",
    "TAASSC = pd.read_csv(r'textfile\\results_FINAL_sca.csv')\n",
    "TAASSC['filename'] = TAASSC['filename'].replace('.txt','', regex=True)\n",
    "TAASSC['filename'] = TAASSC['filename'].replace(r'C:\\\\Users\\\\yijun\\\\AppData\\\\Local\\\\Temp\\\\_.*?\\\\sca_parsed_files\\\\', '', regex=True)\n",
    "\n",
    "# Keep only relevant syntactic complexity columns and rename them\n",
    "TAASSC = TAASSC[['filename','MLC','CN_C']]\n",
    "TAASSC = TAASSC.rename(columns={\"filename\": \"row_num\",'CN_C':'CNC'})\n",
    "\n",
    "#convert row_num into int\n",
    "TAASSC['row_num']=TAASSC['row_num'].astype(int)\n",
    "TAASSC.sort_values(by='row_num',  inplace=True, ascending=True)\n",
    "TAASSC.to_csv(rf'TAASSC\\results_FINAL_sca.csv', index=False)\n",
    "\n",
    "# Merge TAASSC with Clean File\n",
    "df3=pd.merge(df2, TAASSC, on=[\"row_num\"], how=\"left\")\n",
    "\n",
    "# replace MLC, CNC missing to 0\n",
    "df3.fillna({'MLC': 0, 'CNC': 0}, inplace=True)"
   ]
  },
  {
   "cell_type": "markdown",
   "id": "05edc79d",
   "metadata": {},
   "source": [
    "## Usage of Unique Words (Entropy)"
   ]
  },
  {
   "cell_type": "markdown",
   "id": "3da52f1d",
   "metadata": {},
   "source": [
    "### Shannon's Entropy"
   ]
  },
  {
   "cell_type": "code",
   "execution_count": null,
   "id": "078c6c64",
   "metadata": {},
   "outputs": [],
   "source": [
    "import math\n",
    "\n",
    "def entropy_calculator(data):\n",
    "    if not data:\n",
    "        return 0\n",
    "    entropy = 0\n",
    "    for x in range(256):\n",
    "        p_x = float(data.count(chr(x)))/len(data)\n",
    "        if p_x > 0:\n",
    "            entropy += - p_x*math.log(p_x, 2)\n",
    "    return entropy\n",
    "\n",
    "df3['entropy']=df3['transcription'].apply(entropy_calculator)"
   ]
  },
  {
   "cell_type": "markdown",
   "id": "242fe207",
   "metadata": {},
   "source": [
    "### Applying ChaoShen Correction to Shannon's Entropy uses R package\n",
    "### After running ChaoShen package in R, import as CSV"
   ]
  },
  {
   "cell_type": "code",
   "execution_count": null,
   "id": "a79edc01",
   "metadata": {},
   "outputs": [],
   "source": [
    "# Read in ChaoShen analysis file\n",
    "ChaoShen = pd.read_csv(r'data\\EAR_english_20220820_ChaoShen.csv', encoding='cp1252')\n",
    "ChaoShen = ChaoShen[['row_num','ChaoShen']]\n",
    "\n",
    "# merge with df3\n",
    "df4=pd.merge(df3, ChaoShen, on=[\"row_num\"], how=\"left\")\n",
    "\n",
    "# replace ChaoShen missing to 0\n",
    "df4.fillna({'ChaoShen': 0}, inplace=True)"
   ]
  }
 ],
 "metadata": {
  "kernelspec": {
   "display_name": "Python 3 (ipykernel)",
   "language": "python",
   "name": "python3"
  },
  "language_info": {
   "codemirror_mode": {
    "name": "ipython",
    "version": 3
   },
   "file_extension": ".py",
   "mimetype": "text/x-python",
   "name": "python",
   "nbconvert_exporter": "python",
   "pygments_lexer": "ipython3",
   "version": "3.10.3"
  }
 },
 "nbformat": 4,
 "nbformat_minor": 5
}
